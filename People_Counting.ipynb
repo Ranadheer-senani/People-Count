{
  "nbformat": 4,
  "nbformat_minor": 0,
  "metadata": {
    "colab": {
      "name": "People-Counting.ipynb",
      "provenance": [],
      "collapsed_sections": []
    },
    "kernelspec": {
      "name": "python3",
      "display_name": "Python 3"
    },
    "language_info": {
      "name": "python"
    }
  },
  "cells": [
    {
      "cell_type": "code",
      "metadata": {
        "colab": {
          "base_uri": "https://localhost:8080/"
        },
        "id": "08g02DHReZA1",
        "outputId": "02e282df-a799-4bb6-ad85-d0239310ad31"
      },
      "source": [
        "!gdown https://pjreddie.com/media/files/yolov3.weights"
      ],
      "execution_count": 2,
      "outputs": [
        {
          "output_type": "stream",
          "name": "stdout",
          "text": [
            "Downloading...\n",
            "From: https://pjreddie.com/media/files/yolov3.weights\n",
            "To: /content/yolov3.weights\n",
            "100% 248M/248M [00:04<00:00, 60.7MB/s]\n"
          ]
        }
      ]
    },
    {
      "cell_type": "code",
      "metadata": {
        "colab": {
          "base_uri": "https://localhost:8080/"
        },
        "id": "hhGdFAjregLR",
        "outputId": "58260655-959c-4d6b-9a2b-f30bb66a25a8"
      },
      "source": [
        "!gdown https://opencv-tutorial.readthedocs.io/en/latest/_downloads/10e685aad953495a95c17bfecd1649e5/yolov3.cfg"
      ],
      "execution_count": 3,
      "outputs": [
        {
          "output_type": "stream",
          "name": "stdout",
          "text": [
            "Downloading...\n",
            "From: https://opencv-tutorial.readthedocs.io/en/latest/_downloads/10e685aad953495a95c17bfecd1649e5/yolov3.cfg\n",
            "To: /content/yolov3.cfg\n",
            "\r  0% 0.00/8.34k [00:00<?, ?B/s]\r100% 8.34k/8.34k [00:00<00:00, 5.28MB/s]\n"
          ]
        }
      ]
    },
    {
      "cell_type": "code",
      "metadata": {
        "colab": {
          "base_uri": "https://localhost:8080/"
        },
        "id": "sAVS8EQqirrc",
        "outputId": "8c79fd56-3403-47eb-9ea7-9a8cfb956bd9"
      },
      "source": [
        "!gdown https://opencv-tutorial.readthedocs.io/en/latest/_downloads/a9fb13cbea0745f3d11da9017d1b8467/coco.names"
      ],
      "execution_count": 4,
      "outputs": [
        {
          "output_type": "stream",
          "name": "stdout",
          "text": [
            "Downloading...\n",
            "From: https://opencv-tutorial.readthedocs.io/en/latest/_downloads/a9fb13cbea0745f3d11da9017d1b8467/coco.names\n",
            "To: /content/coco.names\n",
            "\r  0% 0.00/621 [00:00<?, ?B/s]\r100% 621/621 [00:00<00:00, 484kB/s]\n"
          ]
        }
      ]
    },
    {
      "cell_type": "code",
      "metadata": {
        "colab": {
          "base_uri": "https://localhost:8080/"
        },
        "id": "cYzXgyirqKpK",
        "outputId": "e18c16ea-5986-4722-d2b0-141732d2b407"
      },
      "source": [
        "!gdown --id 18RDqTp5jQfkcaDmR9gND-vuLNTe9B0BB"
      ],
      "execution_count": 7,
      "outputs": [
        {
          "output_type": "stream",
          "name": "stdout",
          "text": [
            "Downloading...\n",
            "From: https://drive.google.com/uc?id=18RDqTp5jQfkcaDmR9gND-vuLNTe9B0BB\n",
            "To: /content/in.avi\n",
            "\r0.00B [00:00, ?B/s]\r4.72MB [00:00, 27.8MB/s]\r8.13MB [00:00, 36.7MB/s]\n"
          ]
        }
      ]
    },
    {
      "cell_type": "code",
      "metadata": {
        "id": "kRVyEC3RfXFN"
      },
      "source": [
        "# YOLO object detection\n",
        "import cv2 as cv\n",
        "import numpy as np\n",
        "from google.colab.patches import cv2_imshow\n",
        "\n",
        "# Load names of classes and get random colors\n",
        "classes = open('/content/coco.names').read().strip().split('\\n')\n",
        "np.random.seed(42)\n",
        "colors = np.random.randint(0, 255, size=(len(classes), 3), dtype='uint8')\n",
        "\n",
        "# Give the configuration and weight files for the model and load the network.\n",
        "net = cv.dnn.readNetFromDarknet('/content/yolov3.cfg', '/content/yolov3.weights')\n",
        "net.setPreferableBackend(cv.dnn.DNN_BACKEND_OPENCV)\n",
        "#net.setPreferableTarget(cv.dnn.DNN_TARGET_CPU)\n",
        "\n",
        "# determine the output layer\n",
        "ln = net.getLayerNames()\n",
        "ln = [ln[i[0] - 1] for i in net.getUnconnectedOutLayers()]\n",
        "\n",
        "def post_process(img, outputs, conf = 0.5):\n",
        "    H, W = img.shape[:2]\n",
        "\n",
        "    boxes = []\n",
        "    confidences = []\n",
        "    classIDs = []\n",
        "\n",
        "    for output in outputs:\n",
        "        scores = output[5:]\n",
        "        classID = np.argmax(scores)\n",
        "        confidence = scores[classID]\n",
        "        if confidence > conf:\n",
        "            x, y, w, h = output[:4] * np.array([W, H, W, H])\n",
        "            p0 = int(x - w//2), int(y - h//2)\n",
        "            p1 = int(x + w//2), int(y + h//2)\n",
        "            boxes.append([*p0, int(w), int(h)])\n",
        "            confidences.append(float(confidence))\n",
        "            classIDs.append(classID)\n",
        "    count = 0\n",
        "    indices = cv.dnn.NMSBoxes(boxes, confidences, conf, conf-0.1)\n",
        "    if len(indices) > 0:\n",
        "        for i in indices.flatten():\n",
        "            if classes[classIDs[i]] == 'person':\n",
        "              count += 1\n",
        "              (x, y) = (boxes[i][0], boxes[i][1])\n",
        "              (w, h) = (boxes[i][2], boxes[i][3])\n",
        "              color = [int(c) for c in colors[classIDs[i]]]\n",
        "              cv.rectangle(img, (x, y), (x + w, y + h), color, 2)\n",
        "              text = \"{}: {:.4f}\".format(classes[classIDs[i]], confidences[i])\n",
        "              cv.putText(img, text, (x, y - 5), cv.FONT_HERSHEY_SIMPLEX, 0.5, color, 1)\n",
        "        cv.putText(img, f'Count: {count}', (50, 50), cv.FONT_HERSHEY_SIMPLEX, 1,(0,0,200), 3)\n",
        "    return img\n",
        "\n",
        "def detect(img):\n",
        "\n",
        "    blob = cv.dnn.blobFromImage(img, 1/255.0, (416, 416), swapRB=True, crop=False)\n",
        "\n",
        "    net.setInput(blob)\n",
        "    outputs = net.forward(ln)\n",
        "\n",
        "    # combine the 3 output groups into 1 (10647, 85)\n",
        "    # large objects (507, 85)\n",
        "    # medium objects (2028, 85)\n",
        "    # small objects (8112, 85)\n",
        "    outputs = np.vstack(outputs)\n",
        "\n",
        "    image = post_process(img, outputs, 0.5)\n",
        "    return image\n",
        "\n",
        "def detect_vid(in_path, out_path):\n",
        "    video_reader = cv.VideoCapture(in_path)\n",
        "    \n",
        "    frame_width = int(video_reader.get(3))\n",
        "    frame_height = int(video_reader.get(4))\n",
        "      \n",
        "    size = (frame_width, frame_height)\n",
        "    \n",
        "    video_writer = cv.VideoWriter(out_path, \n",
        "                          cv.VideoWriter_fourcc(*'MJPG'),\n",
        "                          15, size)\n",
        "    \n",
        "    while True:\n",
        "\n",
        "        ret, frame = video_reader.read()\n",
        "        if not ret:\n",
        "          break\n",
        "        \n",
        "        im = detect(frame)\n",
        "        video_writer.write(frame)\n",
        "\n",
        "    video_reader.release()\n",
        "    video_writer.release()"
      ],
      "execution_count": 21,
      "outputs": []
    },
    {
      "cell_type": "code",
      "metadata": {
        "id": "KD7UiAJts011"
      },
      "source": [
        "detect_vid('/content/in.avi','/content/out.avi')"
      ],
      "execution_count": 22,
      "outputs": []
    },
    {
      "cell_type": "code",
      "metadata": {
        "id": "3QIFi8uB4oqT"
      },
      "source": [
        ""
      ],
      "execution_count": null,
      "outputs": []
    }
  ]
}